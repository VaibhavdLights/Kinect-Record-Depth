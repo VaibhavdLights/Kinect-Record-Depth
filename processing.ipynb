{
 "cells": [
  {
   "cell_type": "code",
   "execution_count": 1,
   "metadata": {},
   "outputs": [],
   "source": [
    "import numpy as np\n",
    "import cv2\n",
    "\n",
    "# Define the dimensions of the depth frame\n",
    "depth_width, depth_height = 512, 424  # Adjust dimensions based on your Kinect model\n",
    "\n",
    "# Read depth data from the binary file\n",
    "depth_data = np.fromfile(\"ir_data.bin\", dtype=np.uint16)\n",
    "\n",
    "# Reshape the data into depth frames\n",
    "depth_frames = depth_data.reshape(-1, depth_height, depth_width)\n",
    "x = []\n",
    "\n",
    "# Display the depth frames and store them in the list 'x'\n",
    "for frame in depth_frames:\n",
    "    # Scale the depth values for visualization\n",
    "    depth_image = (frame / 8000.0 * 255).astype(np.uint8)\n",
    "\n",
    "    # Append the depth image to the list 'x'\n",
    "    x.append(depth_image)\n",
    "\n",
    "    # Display the depth image\n",
    "    # cv2.imshow(\"Depth Image\", depth_image)\n",
    "    # cv2.waitKey(int(1000 / 30))  # Adjust the wait time as needed\n",
    "\n",
    "# Save the list 'x' to disk as a NumPy binary file\n",
    "np.save(\"ir_images.npy\", x)\n",
    "\n",
    "# Close OpenCV windows\n",
    "cv2.destroyAllWindows()"
   ]
  },
  {
   "cell_type": "code",
   "execution_count": 2,
   "metadata": {},
   "outputs": [],
   "source": [
    "import numpy as np\n",
    "\n",
    "# Load the depth images from the saved file\n",
    "x = np.load(\"depth_images.npy\")"
   ]
  },
  {
   "cell_type": "code",
   "execution_count": 3,
   "metadata": {},
   "outputs": [
    {
     "data": {
      "text/plain": [
       "array([[[  0,   0,  79, ...,   0,   0,   0],\n",
       "        [  0,  78,  77, ...,   0,  86,   0],\n",
       "        [  0,  77,   0, ...,  86,  86,   0],\n",
       "        ...,\n",
       "        [  0,   0,  55, ...,   0,   0,   0],\n",
       "        [  0,   0,   0, ...,   0,   0,   0],\n",
       "        [  0,   0, 251, ...,   0,   0,   0]],\n",
       "\n",
       "       [[  0,  78,   0, ...,  88,  88,   0],\n",
       "        [  0,  77,  77, ...,  87,  88,   0],\n",
       "        [  0,  76,  76, ...,  86,  87,   0],\n",
       "        ...,\n",
       "        [  0,  55,  55, ...,   0,   0,   0],\n",
       "        [  0,  54,   0, ...,   0,   0,   0],\n",
       "        [  0,  54,   0, ...,   0,   0,   0]],\n",
       "\n",
       "       [[  0,  76,  78, ...,   0,   0,   0],\n",
       "        [  0,  76,  77, ...,  88,  87,   0],\n",
       "        [  0,  77,  76, ...,  87,  88,   0],\n",
       "        ...,\n",
       "        [  0,   0,   0, ...,   0,   0,   0],\n",
       "        [  0,  53,  53, ...,   0,   0,   0],\n",
       "        [  0,   0,   0, ...,   0,   0,   0]],\n",
       "\n",
       "       ...,\n",
       "\n",
       "       [[  0,  76,   0, ...,  83,  88,   0],\n",
       "        [  0,  77,   0, ...,   0,  86,   0],\n",
       "        [  0,  76,   0, ...,  86,  86,   0],\n",
       "        ...,\n",
       "        [  0,  53,   0, ...,   0,   0,   0],\n",
       "        [  0,   0,   0, ...,   0,   0,   0],\n",
       "        [  0,  53,   0, ...,   0,   0,   0]],\n",
       "\n",
       "       [[  0,   0,   0, ...,  88,   0,   0],\n",
       "        [  0,   0,   0, ...,   0,  87,   0],\n",
       "        [  0,   0,  77, ...,  85,  84,   0],\n",
       "        ...,\n",
       "        [  0,  54,   0, ...,   0,   0,   0],\n",
       "        [  0,  52,  55, ...,   0,   0,   0],\n",
       "        [  0,   0,  58, ...,   0,   0,   0]],\n",
       "\n",
       "       [[  0,  75,   0, ...,   0,  85,   0],\n",
       "        [  0,  78,   0, ...,   0,  86,   0],\n",
       "        [  0,  79,  79, ...,  86,   0,   0],\n",
       "        ...,\n",
       "        [  0,  54,  55, ...,   0,   0,   0],\n",
       "        [  0,  54,  54, ...,   0,   0,   0],\n",
       "        [  0,  57,   0, ...,   0,   0,   0]]], dtype=uint8)"
      ]
     },
     "execution_count": 3,
     "metadata": {},
     "output_type": "execute_result"
    }
   ],
   "source": [
    "x"
   ]
  },
  {
   "cell_type": "code",
   "execution_count": 3,
   "metadata": {},
   "outputs": [
    {
     "ename": "KeyboardInterrupt",
     "evalue": "",
     "output_type": "error",
     "traceback": [
      "\u001b[1;31m---------------------------------------------------------------------------\u001b[0m",
      "\u001b[1;31mKeyboardInterrupt\u001b[0m                         Traceback (most recent call last)",
      "Cell \u001b[1;32mIn[3], line 3\u001b[0m\n\u001b[0;32m      1\u001b[0m \u001b[38;5;28;01mfor\u001b[39;00m i \u001b[38;5;129;01min\u001b[39;00m x:\n\u001b[0;32m      2\u001b[0m     cv2\u001b[38;5;241m.\u001b[39mimshow(\u001b[38;5;124m\"\u001b[39m\u001b[38;5;124mdepth image\u001b[39m\u001b[38;5;124m\"\u001b[39m, i)\n\u001b[1;32m----> 3\u001b[0m     \u001b[43mcv2\u001b[49m\u001b[38;5;241;43m.\u001b[39;49m\u001b[43mwaitKey\u001b[49m\u001b[43m(\u001b[49m\u001b[38;5;28;43mint\u001b[39;49m\u001b[43m(\u001b[49m\u001b[38;5;241;43m1000\u001b[39;49m\u001b[43m \u001b[49m\u001b[38;5;241;43m/\u001b[39;49m\u001b[43m \u001b[49m\u001b[38;5;241;43m30\u001b[39;49m\u001b[43m)\u001b[49m\u001b[43m)\u001b[49m\n\u001b[0;32m      5\u001b[0m cv2\u001b[38;5;241m.\u001b[39mdestroyAllWindows()\n",
      "\u001b[1;31mKeyboardInterrupt\u001b[0m: "
     ]
    },
    {
     "ename": "",
     "evalue": "",
     "output_type": "error",
     "traceback": [
      "\u001b[1;31mThe Kernel crashed while executing code in the current cell or a previous cell. \n",
      "\u001b[1;31mPlease review the code in the cell(s) to identify a possible cause of the failure. \n",
      "\u001b[1;31mClick <a href='https://aka.ms/vscodeJupyterKernelCrash'>here</a> for more info. \n",
      "\u001b[1;31mView Jupyter <a href='command:jupyter.viewOutput'>log</a> for further details."
     ]
    }
   ],
   "source": [
    "for i in x:\n",
    "    cv2.imshow(\"depth image\", i)\n",
    "    cv2.waitKey(int(1000 / 30))\n",
    "\n",
    "cv2.destroyAllWindows()"
   ]
  }
 ],
 "metadata": {
  "kernelspec": {
   "display_name": "Python 3",
   "language": "python",
   "name": "python3"
  },
  "language_info": {
   "codemirror_mode": {
    "name": "ipython",
    "version": 3
   },
   "file_extension": ".py",
   "mimetype": "text/x-python",
   "name": "python",
   "nbconvert_exporter": "python",
   "pygments_lexer": "ipython3",
   "version": "3.8.0"
  }
 },
 "nbformat": 4,
 "nbformat_minor": 2
}
